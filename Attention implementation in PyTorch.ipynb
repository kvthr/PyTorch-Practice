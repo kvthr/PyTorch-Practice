{
 "cells": [
  {
   "cell_type": "markdown",
   "metadata": {},
   "source": [
    "## Attention implementation in PyTorch \n",
    "\n",
    "<b>Author</b>: Ruthvik G."
   ]
  },
  {
   "cell_type": "markdown",
   "metadata": {},
   "source": [
    "## Description"
   ]
  },
  {
   "cell_type": "markdown",
   "metadata": {},
   "source": [
    "PyTorch implementation of Attention from [Bahdanau's](https://arxiv.org/abs/1409.0473) Neural Machine Translation by Jointly Learning to Align and Translate.\n",
    "\n",
    "Implentation and Problem Statement credits: Tal Baumel's excellent and insightful [DyNet implementation](https://talbaumel.github.io/blog/attention/). Some of the helper functions are directly taken from the blog and most of them are derived from his blogpost.\n",
    "\n",
    "Align class implementation from [AuCson's](https://github.com/AuCson/PyTorch-Batch-Attention-Seq2seq/blob/master/attentionRNN.py) github repo.\n",
    "\n",
    "I took this as an exercise to strengthen my PyTorch's API understanding and the working of Attention(Align and Translate) model."
   ]
  },
  {
   "cell_type": "markdown",
   "metadata": {},
   "source": [
    "## Toy dataset generation"
   ]
  },
  {
   "cell_type": "code",
   "execution_count": 2,
   "metadata": {},
   "outputs": [],
   "source": [
    "%matplotlib inline\n",
    "import matplotlib.pyplot as plt\n",
    "from random import choice, randrange\n",
    "\n",
    "SOS = \"<SOS>\" # Start of Sentence token\n",
    "EOS = \"<EOS>\" # End of Sentence token\n",
    "characters = list(\"abcd\")\n",
    "characters.append(EOS)\n",
    "characters.append(SOS)\n",
    "\n",
    "# dictionaries for vocab indexing\n",
    "int2char = list(characters)\n",
    "char2int = {c:i for i,c in enumerate(characters)}\n",
    "\n",
    "VOCAB_SIZE = len(characters)\n",
    "\n",
    "# function that generates word(length between min_length and max_length).\n",
    "def sample_model(min_length, max_lenth):\n",
    "    random_length = randrange(min_length, max_lenth)\n",
    "    random_char_list = [choice(characters[:-2]) for _ in range(random_length)]\n",
    "    random_string = ''.join(random_char_list) \n",
    "    return random_string, random_string[::-1]"
   ]
  },
  {
   "cell_type": "code",
   "execution_count": 3,
   "metadata": {},
   "outputs": [
    {
     "name": "stdout",
     "output_type": "stream",
     "text": [
      "('dcaccdc', 'cdccacd')\n"
     ]
    }
   ],
   "source": [
    "print(sample_model(6, 8))"
   ]
  },
  {
   "cell_type": "code",
   "execution_count": 4,
   "metadata": {},
   "outputs": [],
   "source": [
    "MAX_STRING_LEN = 15\n",
    "\n",
    "# generate training and validation data\n",
    "train_data = [sample_model(1, MAX_STRING_LEN) for _ in range(4000)]\n",
    "valid_data = [sample_model(1, MAX_STRING_LEN) for _ in range(50)]"
   ]
  },
  {
   "cell_type": "code",
   "execution_count": 5,
   "metadata": {},
   "outputs": [],
   "source": [
    "# add eos and sos tokens to the words generated \n",
    "def _add_eos_tokenize(string):\n",
    "    string = [SOS] + list(string) + [EOS]\n",
    "    return [char2int[c] for c in string]"
   ]
  },
  {
   "cell_type": "markdown",
   "metadata": {},
   "source": [
    "## Import all the required torch modules"
   ]
  },
  {
   "cell_type": "code",
   "execution_count": 6,
   "metadata": {},
   "outputs": [],
   "source": [
    "import torch\n",
    "import torch.nn as nn\n",
    "from torch.nn import functional as F\n",
    "from torch.autograd import Variable\n",
    "from torch import optim"
   ]
  },
  {
   "cell_type": "markdown",
   "metadata": {},
   "source": [
    "## Simple RNN Model\n",
    "\n",
    "A simple RNN model. The RNN used in single directional LSTM. [nn.LSTM](https://pytorch.org/docs/master/nn.html#torch.nn.LSTM) from PyTorch.\n",
    "\n",
    "Key Points:\n",
    "\n",
    "* *inputs_size* here is *embedding_dim*.\n",
    "* Tried only random initialization for hidden states. \n",
    "* Returns raw scores not probabilities."
   ]
  },
  {
   "cell_type": "code",
   "execution_count": 17,
   "metadata": {},
   "outputs": [],
   "source": [
    "class SimpleRNN(nn.Module):\n",
    "    \n",
    "    def __init__(self, num_layers=2, inputs_size=15, hidden_size=20):\n",
    "        super(SimpleRNN, self).__init__()\n",
    "        \n",
    "        self.num_layers = num_layers\n",
    "        self.inputs_size = inputs_size\n",
    "        self.hidden_size = hidden_size\n",
    "        \n",
    "        # embedding_layer\n",
    "        self.embedding = nn.Embedding(num_embeddings=VOCAB_SIZE,\n",
    "                                      embedding_dim=inputs_size)\n",
    "        # lstm_layer\n",
    "        self.rnn = nn.LSTM(input_size=inputs_size,\n",
    "                          hidden_size=hidden_size,\n",
    "                          num_layers=num_layers, batch_first=False) # bidirectional=False (default setting)\n",
    "        # linear_layer\n",
    "        self.linear = nn.Linear(in_features=hidden_size, \n",
    "                               out_features=VOCAB_SIZE)\n",
    "        \n",
    "    # method to initialize the hidden and context values of the lstm_layer\n",
    "    def _initialize_hidden(self):\n",
    "        return (torch.randn(self.num_layers, 1, self.hidden_size), torch.randn(self.num_layers, 1, self.hidden_size))\n",
    "    \n",
    "    # forward propagate the inputs through the network \n",
    "    def forward(self, inputs):\n",
    "        \n",
    "        input_embeddings = self.embedding(inputs)\n",
    "        rnn_inputs = torch.unsqueeze(input_embeddings, 1) # add the batch_size dimension\n",
    "        \n",
    "        hidden = self._initialize_hidden()\n",
    "        rnn_out, _ = self.rnn(rnn_inputs, hidden)\n",
    "        \n",
    "        lin_in = torch.squeeze(rnn_out, 1) # remove the batch_size dimension\n",
    "        out = self.linear(lin_in)\n",
    "        return out"
   ]
  },
  {
   "cell_type": "markdown",
   "metadata": {},
   "source": [
    "## Define the loss function.\n",
    "\n",
    "* Used CrossEntropy loss. ([nn.CrossEntropyLoss](https://pytorch.org/docs/stable/nn.html#torch.nn.CrossEntropyLoss))"
   ]
  },
  {
   "cell_type": "code",
   "execution_count": 7,
   "metadata": {},
   "outputs": [],
   "source": [
    "criterion = nn.CrossEntropyLoss()"
   ]
  },
  {
   "cell_type": "markdown",
   "metadata": {},
   "source": [
    "## Import some more libraries"
   ]
  },
  {
   "cell_type": "code",
   "execution_count": 8,
   "metadata": {},
   "outputs": [],
   "source": [
    "from tqdm import tqdm\n",
    "import math"
   ]
  },
  {
   "cell_type": "markdown",
   "metadata": {},
   "source": [
    "## Helper functions from train/eval of the model.\n",
    "\n",
    "* Predict function \n",
    "* count_matches to calculate the accuracy\n",
    "* TODO: pass learning_rate as a parameter to the train function.\n",
    "\n",
    "### Optimizer\n",
    "\n",
    "* Used SGD optimizer. [optim.SGD](https://pytorch.org/docs/stable/_modules/torch/optim/sgd.html)\n",
    "* Adam wasn't converging properly. (Try to reason this.)"
   ]
  },
  {
   "cell_type": "code",
   "execution_count": 9,
   "metadata": {},
   "outputs": [],
   "source": [
    "def predict(model, sample):\n",
    "\n",
    "    pdc = model(torch.LongTensor(_add_eos_tokenize(sample)))\n",
    "    \n",
    "    pdc = list(torch.argmax(pdc, 1))\n",
    "    pred_str = ''\n",
    "    for i in pdc[1:-1]:\n",
    "        pred_str = pred_str + int2char[i]\n",
    "    return pred_str\n",
    "\n",
    "def count_matches(model, val_set):\n",
    "    matches = [predict(model, input_string)==output_string for input_string, output_string in val_set]\n",
    "    return matches.count(True)\n",
    "\n",
    "def train(model, train_data, valid_data, n_epochs=20):\n",
    "    \n",
    "    def get_val_loss(model, valid_data):\n",
    "        \n",
    "        loss = [criterion(model(torch.LongTensor(_add_eos_tokenize(valid_sample[0]))), torch.LongTensor(_add_eos_tokenize(valid_sample[1]))) for valid_sample in valid_data]\n",
    "        return sum(loss)\n",
    "    \n",
    "    # Define optimizer and adjust the learning rate\n",
    "    optimizer = optim.SGD(model.parameters(), lr=0.01)\n",
    "    \n",
    "    n_iter = 0\n",
    "    losses = []\n",
    "    iterations = []\n",
    "    \n",
    "    for epoch in range(1, n_epochs+1):\n",
    "        epoch_loss = 0\n",
    "        for i, training_sample in enumerate(train_data):\n",
    "            \n",
    "            # initialize the training\n",
    "            model.train()\n",
    "            optimizer.zero_grad() # set all the gradients to zero\n",
    "            \n",
    "            n_iter += 1\n",
    "            predictions = model(torch.LongTensor(_add_eos_tokenize(training_sample[0])))\n",
    "            \n",
    "            loss = criterion(predictions, torch.LongTensor(_add_eos_tokenize(training_sample[1])))\n",
    "            epoch_loss += loss.item()\n",
    "            \n",
    "            # back propagate through network\n",
    "            loss.backward()\n",
    "            optimizer.step() # optimizer step to update the gradients\n",
    "            \n",
    "            # calculate the validation loss for every 100 iterations\n",
    "            if n_iter%100==0:\n",
    "                \n",
    "                model.eval()\n",
    "                val_loss = get_val_loss(model, valid_data)\n",
    "                \n",
    "                losses.append(val_loss)\n",
    "                iterations.append(n_iter)\n",
    "        \n",
    "        # save the model(only paramaters not the whole model)\n",
    "        torch.save(model.state_dict(), \"./pretrained/string_reversal_{}\".format(model.__class__.__name__))\n",
    "    \n",
    "    plt.plot(iterations, losses)\n",
    "    plt.show()\n",
    "    print(\"Loss on validation dataset: {}\".format(val_loss))"
   ]
  },
  {
   "cell_type": "markdown",
   "metadata": {},
   "source": [
    "#### Train the model"
   ]
  },
  {
   "cell_type": "code",
   "execution_count": 21,
   "metadata": {},
   "outputs": [
    {
     "data": {
      "image/png": "[encoded data removed]",
      "text/plain": [
       "<Figure size 432x288 with 1 Axes>"
      ]
     },
     "metadata": {},
     "output_type": "display_data"
    },
    {
     "name": "stdout",
     "output_type": "stream",
     "text": [
      "Loss on validation dataset: 44.66676712036133\n"
     ]
    }
   ],
   "source": [
    "model = SimpleRNN()\n",
    "train(model, train_data=train_data, valid_data=valid_data)"
   ]
  },
  {
   "cell_type": "code",
   "execution_count": 22,
   "metadata": {},
   "outputs": [
    {
     "name": "stdout",
     "output_type": "stream",
     "text": [
      "Matches for short strings 32\n",
      "Matches for medium strings 0\n",
      "Matches for long strings 0\n"
     ]
    }
   ],
   "source": [
    "short_strings = [sample_model(1, 5) for _ in range(100)]\n",
    "medium_strings = [sample_model(5, 10) for _ in range(100)]\n",
    "long_strings = [sample_model(10, 15) for _ in range(100)]\n",
    "\n",
    "print('Matches for short strings', count_matches(model, short_strings))\n",
    "print('Matches for medium strings', count_matches(model, medium_strings))\n",
    "print('Matches for long strings', count_matches(model, long_strings))"
   ]
  },
  {
   "cell_type": "markdown",
   "metadata": {},
   "source": [
    "## Bidirectional RNN Model\n",
    "\n",
    "A birectional RNN model. The RNN used in  bidirectional LSTM. [nn.LSTM](https://pytorch.org/docs/master/nn.html#torch.nn.LSTM) from PyTorch.\n",
    "\n",
    "Key Points:\n",
    "* *inputs_size* here is *embedding_dim*.\n",
    "* Tried only random initialization for hidden states. \n",
    "* Concatenated the inputs of the LSTM.\n",
    "    * Try averaging."
   ]
  },
  {
   "cell_type": "code",
   "execution_count": 23,
   "metadata": {},
   "outputs": [],
   "source": [
    "class BidirectionalRNN(nn.Module):\n",
    "    \n",
    "    def __init__(self, num_layers=2, inputs_size=15, hidden_size=20):\n",
    "        super(BidirectionalRNN, self).__init__()\n",
    "        \n",
    "        self.num_layers = num_layers\n",
    "        self.inputs_size = inputs_size\n",
    "        self.hidden_size = hidden_size\n",
    "        \n",
    "        # embedding_layer\n",
    "        self.embedding = nn.Embedding(num_embeddings=VOCAB_SIZE,\n",
    "                                      embedding_dim=inputs_size)\n",
    "        # lstm_layer\n",
    "        self.rnn = nn.LSTM(input_size=inputs_size,\n",
    "                          hidden_size=hidden_size,\n",
    "                          num_layers=num_layers, batch_first=False,\n",
    "                          bidirectional=True)                      # birectional = True\n",
    "        # linear_layer\n",
    "        self.linear = nn.Linear(in_features=2*self.hidden_size,    # inputs are concatenated values of both lstms\n",
    "                               out_features=VOCAB_SIZE)\n",
    "    \n",
    "    # initialize the hidden and context values of the lstm\n",
    "    def _initialize_hidden(self):\n",
    "        return (torch.randn(2*self.num_layers, 1, self.hidden_size), torch.randn(2*self.num_layers, 1, self.hidden_size))\n",
    "    \n",
    "    # forward propagate through the network\n",
    "    def forward(self, inputs):\n",
    "        \n",
    "        input_embeddings = self.embedding(inputs)\n",
    "        rnn_inputs = torch.unsqueeze(input_embeddings, 1)\n",
    "        \n",
    "        hidden = self._initialize_hidden()\n",
    "        rnn_out, _ = self.rnn(rnn_inputs, hidden)\n",
    "        \n",
    "        lin_in = torch.squeeze(rnn_out, 1)\n",
    "        out = self.linear(lin_in)\n",
    "        \n",
    "        return out"
   ]
  },
  {
   "cell_type": "markdown",
   "metadata": {},
   "source": [
    "#### Train the model"
   ]
  },
  {
   "cell_type": "code",
   "execution_count": 24,
   "metadata": {},
   "outputs": [
    {
     "data": {
      "image/png": "[encoded data removed]",
      "text/plain": [
       "<Figure size 432x288 with 1 Axes>"
      ]
     },
     "metadata": {},
     "output_type": "display_data"
    },
    {
     "name": "stdout",
     "output_type": "stream",
     "text": [
      "Loss on validation dataset: 28.195648193359375\n"
     ]
    }
   ],
   "source": [
    "bidirec_model = BidirectionalRNN()\n",
    "train(bidirec_model, train_data=train_data, valid_data=valid_data)"
   ]
  },
  {
   "cell_type": "markdown",
   "metadata": {},
   "source": [
    "### Helper functions \n",
    "\n",
    "To better understand the learned capabilities of the models."
   ]
  },
  {
   "cell_type": "code",
   "execution_count": 25,
   "metadata": {},
   "outputs": [
    {
     "name": "stdout",
     "output_type": "stream",
     "text": [
      "Matches for short strings 72\n",
      "Matches for medium strings 3\n",
      "Matches for long strings 0\n"
     ]
    }
   ],
   "source": [
    "short_strings = [sample_model(1, 5) for _ in range(100)]\n",
    "medium_strings = [sample_model(5, 10) for _ in range(100)]\n",
    "long_strings = [sample_model(10, 15) for _ in range(100)]\n",
    "\n",
    "print('Matches for short strings', count_matches(bidirec_model, short_strings))\n",
    "print('Matches for medium strings', count_matches(bidirec_model, medium_strings))\n",
    "print('Matches for long strings', count_matches(bidirec_model, long_strings))"
   ]
  },
  {
   "cell_type": "markdown",
   "metadata": {},
   "source": [
    "## Encoder Decoder Model\n",
    "\n",
    "A Encoder-Decoder architecture. The RNN used in  bidirectional LSTM. [nn.LSTM](https://pytorch.org/docs/master/nn.html#torch.nn.LSTM) from PyTorch. The encoder module encodes the whole input sequence into a fixed length vector. The decoder takes this encoded vector concatenated with input embeddings and outputs the predicted sequence.\n",
    "\n",
    "Key Points:\n",
    "* *inputs_size* here is *embedding_dim*.\n",
    "* Tried only random initialization for hidden states. \n",
    "* Passed encoder output concatenated input embeddings at every timestep of the decoder LSTM. \n",
    "* Try these other methods:\n",
    "    * Concat the encoder ouput previous input embedding.\n",
    "    * Pass only the encoder output at every time step.\n",
    "    * Add the context_size parameter to the network module."
   ]
  },
  {
   "cell_type": "code",
   "execution_count": 10,
   "metadata": {},
   "outputs": [],
   "source": [
    "class EncoderRNN(nn.Module):\n",
    "    \n",
    "    def __init__(self, num_layers=2, inputs_size=15, hidden_size=20):\n",
    "        super(EncoderRNN, self).__init__()\n",
    "        \n",
    "        self.num_layers = num_layers\n",
    "        self.hidden_size = hidden_size\n",
    "        \n",
    "        # embedding_layer\n",
    "        self.embed = nn.Embedding(num_embeddings=VOCAB_SIZE, \n",
    "                                  embedding_dim=inputs_size)\n",
    "        # lstm_layer\n",
    "        self.rnn = nn.LSTM(input_size=inputs_size,\n",
    "                           hidden_size=hidden_size,\n",
    "                           num_layers=num_layers,\n",
    "                           batch_first=False,\n",
    "                           bidirectional=False)\n",
    "    \n",
    "    # initialize the hidden and context values of the lstm\n",
    "    def _initialize_hidden(self):\n",
    "        return (torch.randn(self.num_layers, 1, self.hidden_size), torch.randn(self.num_layers, 1, self.hidden_size))\n",
    "    \n",
    "    # forward propagate through the encoder\n",
    "    def forward(self, inputs):\n",
    "        \n",
    "        input_embeddings = self.embed(inputs)\n",
    "        rnn_inputs = torch.unsqueeze(input_embeddings, 1)\n",
    "        \n",
    "        hidden = self._initialize_hidden()\n",
    "        output, _ = self.rnn(rnn_inputs, hidden)\n",
    "        \n",
    "        return output[-1, :, :] # take only the output of the final time step.\n",
    "    \n",
    "class DecoderRNN(nn.Module):\n",
    "    \n",
    "    def __init__(self, num_layers=2, inputs_size=15, hidden_size=20):\n",
    "        super(DecoderRNN, self).__init__()\n",
    "        \n",
    "        self.num_layers = num_layers\n",
    "        self.hidden_size = hidden_size\n",
    "        self.context_size = hidden_size\n",
    "        self.inputs_size = inputs_size\n",
    "        \n",
    "        # embedding_layer\n",
    "        self.embed = nn.Embedding(num_embeddings=VOCAB_SIZE, \n",
    "                                  embedding_dim=inputs_size)\n",
    "        # lstm_layer\n",
    "        self.rnn = nn.LSTM(input_size=inputs_size + self.context_size, \n",
    "                           hidden_size=hidden_size,\n",
    "                           num_layers=num_layers,\n",
    "                           batch_first=False,\n",
    "                           bidirectional=False)\n",
    "        # linear_layer\n",
    "        self.linear = nn.Linear(in_features=hidden_size,\n",
    "                                out_features=VOCAB_SIZE)\n",
    "        \n",
    "    # initialize the hidden and context values of the lstm\n",
    "    def _initialize_hidden(self):\n",
    "        return (torch.randn(self.num_layers, 1, self.hidden_size), torch.randn(self.num_layers, 1, self.hidden_size))\n",
    "        \n",
    "    # forward propagate through the network\n",
    "    def forward(self, inputs, context):\n",
    "            \n",
    "        input_embeddings = self.embed(inputs)\n",
    "        # concat the input embeddings at every timestep\n",
    "        rnn_inputs = torch.cat((input_embeddings, context.repeat(inputs.shape[0], 1)), 1)\n",
    "        rnn_inputs = torch.unsqueeze(rnn_inputs, 1)\n",
    "\n",
    "        hidden = self._initialize_hidden()\n",
    "        rnn_out, _ = self.rnn(rnn_inputs, hidden)\n",
    "\n",
    "        rnn_out = torch.squeeze(rnn_out, 1)\n",
    "        out = self.linear(rnn_out)\n",
    "\n",
    "        return out"
   ]
  },
  {
   "cell_type": "code",
   "execution_count": 11,
   "metadata": {},
   "outputs": [],
   "source": [
    "class EncoderDecoderRNN(nn.Module):\n",
    "    \n",
    "    def __init__(self, en_layers=2, de_layers=2, inputs_size=15, hidden_size=20):\n",
    "        super(EncoderDecoderRNN, self).__init__()\n",
    "        \n",
    "        self.encoder = EncoderRNN(num_layers=en_layers,\n",
    "                                  inputs_size=inputs_size,\n",
    "                                  hidden_size=hidden_size)\n",
    "        self.decoder = DecoderRNN(num_layers=de_layers,\n",
    "                                  inputs_size=inputs_size,\n",
    "                                  hidden_size=hidden_size)\n",
    "        \n",
    "    def forward(self, inputs):\n",
    "        \n",
    "        context = self.encoder(inputs)\n",
    "        out = self.decoder(inputs, context)\n",
    "        \n",
    "        return out"
   ]
  },
  {
   "cell_type": "markdown",
   "metadata": {},
   "source": [
    "#### Train the model"
   ]
  },
  {
   "cell_type": "code",
   "execution_count": 13,
   "metadata": {},
   "outputs": [
    {
     "data": {
      "image/png": "[encoded data removed]",
      "text/plain": [
       "<Figure size 432x288 with 1 Axes>"
      ]
     },
     "metadata": {},
     "output_type": "display_data"
    },
    {
     "name": "stdout",
     "output_type": "stream",
     "text": [
      "Loss on validation dataset: 26.399871826171875\n"
     ]
    }
   ],
   "source": [
    "seq2seq_model = EncoderDecoderRNN(en_layers=1, de_layers=1, inputs_size=4, hidden_size=32)\n",
    "train(seq2seq_model, train_data=train_data, valid_data=valid_data)"
   ]
  },
  {
   "cell_type": "markdown",
   "metadata": {},
   "source": [
    "#### Evaluate the model"
   ]
  },
  {
   "cell_type": "code",
   "execution_count": 14,
   "metadata": {},
   "outputs": [
    {
     "name": "stdout",
     "output_type": "stream",
     "text": [
      "Matches for short strings 79\n",
      "Matches for medium strings 3\n",
      "Matches for long strings 0\n"
     ]
    }
   ],
   "source": [
    "short_strings = [sample_model(1, 5) for _ in range(100)]\n",
    "medium_strings = [sample_model(5, 10) for _ in range(100)]\n",
    "long_strings = [sample_model(10, 15) for _ in range(100)]\n",
    "\n",
    "print('Matches for short strings', count_matches(seq2seq_model, short_strings))\n",
    "print('Matches for medium strings', count_matches(seq2seq_model, medium_strings))\n",
    "print('Matches for long strings', count_matches(seq2seq_model, long_strings))"
   ]
  },
  {
   "cell_type": "code",
   "execution_count": 15,
   "metadata": {},
   "outputs": [
    {
     "data": {
      "text/plain": [
       "'acccc'"
      ]
     },
     "execution_count": 15,
     "metadata": {},
     "output_type": "execute_result"
    }
   ],
   "source": [
    "predict(seq2seq_model, 'cbcca')"
   ]
  },
  {
   "cell_type": "markdown",
   "metadata": {},
   "source": [
    "## Attention Model\n",
    "\n",
    "Align and Translate architecture from [Bahdanau's paper](https://arxiv.org/pdf/1409.0473.pdf). The RNN used in  bidirectional LSTM. [nn.LSTM](https://pytorch.org/docs/master/nn.html#torch.nn.LSTM) from PyTorch. The encoder module is same as the one used in seq2seq model.\n",
    "\n",
    "Key Points:\n",
    "* *inputs_size* here is *embedding_dim*.\n",
    "* Tried only random initialization for hidden states.\n",
    "* Decoder module is for one time step. Need to interate it through the sequence length of the input\n",
    "* Passed encoder output alone at every timestep of the decoder LSTM. \n",
    "* Try these other methods:\n",
    "    * Concat the encoder ouput previous input embedding.\n",
    "    * Pass only the encoder output at every time step.\n",
    "    * Add the context_size parameter to the network module.\n",
    "    * Use bidirectional RNN."
   ]
  },
  {
   "cell_type": "code",
   "execution_count": 16,
   "metadata": {},
   "outputs": [],
   "source": [
    "class EncoderRNN(nn.Module):\n",
    "    \n",
    "    def __init__(self, num_layers=2, inputs_size=15, hidden_size=20):\n",
    "        super(EncoderRNN, self).__init__()\n",
    "        \n",
    "        self.num_layers = num_layers\n",
    "        self.hidden_size = hidden_size\n",
    "        \n",
    "        # embedding_layer\n",
    "        self.embed = nn.Embedding(num_embeddings=VOCAB_SIZE, \n",
    "                                  embedding_dim=inputs_size)\n",
    "        # lstm_layer\n",
    "        self.rnn = nn.LSTM(input_size=inputs_size,\n",
    "                           hidden_size=hidden_size,\n",
    "                           num_layers=num_layers,\n",
    "                           batch_first=False,\n",
    "                           bidirectional=False)\n",
    "    \n",
    "    # initialize the hidden and context values of lstm layer\n",
    "    def _initialize_hidden(self):\n",
    "        return (torch.randn(self.num_layers, 1, self.hidden_size), torch.randn(self.num_layers, 1, self.hidden_size))\n",
    "    \n",
    "    # forward propagate through the network\n",
    "    def forward(self, inputs):\n",
    "        \n",
    "        input_embeddings = self.embed(inputs)\n",
    "        rnn_inputs = torch.unsqueeze(input_embeddings, 1)\n",
    "        \n",
    "        hidden = self._initialize_hidden()\n",
    "        output, _ = self.rnn(rnn_inputs, hidden)\n",
    "        \n",
    "        return output"
   ]
  },
  {
   "cell_type": "markdown",
   "metadata": {},
   "source": [
    "### Attention Module\n",
    "\n",
    "* e_matrix has the weighted scores of the encoder outputs.\n",
    "* torch.bmm for Batch Matrix Multiplication.\n",
    "* Simply concatenated encoder output and hidden state. Can add a weight parameter between their addition."
   ]
  },
  {
   "cell_type": "code",
   "execution_count": 17,
   "metadata": {},
   "outputs": [],
   "source": [
    "class Align(nn.Module):\n",
    "    def __init__(self, hidden_size):\n",
    "        super(Align, self).__init__()\n",
    "        self.hidden_size = hidden_size\n",
    "        self.attn = nn.Linear(self.hidden_size*2, hidden_size)\n",
    "        \n",
    "        # weight parameter for e scores with normal initialization\n",
    "        self.v = nn.Parameter(torch.rand(hidden_size))\n",
    "        stdv = 1./ math.sqrt(self.v.size(0))\n",
    "        self.v.data.normal_(mean=0, std=stdv)\n",
    "        \n",
    "    def forward(self, hidden, encoder_out):\n",
    "        \n",
    "        # get the sequence length\n",
    "        max_len = encoder_out.size(0)\n",
    "        H= hidden[-1, :, :].unsqueeze(0).repeat(max_len, 1, 1).transpose(0, 1) # taje only the ouptputs of the final layer\n",
    "        encoder_out = encoder_out.transpose(0, 1)\n",
    "        \n",
    "        # get raw scores as e_matrix and pass to the softmax function\n",
    "        e_matrix = self.get_alpha_matrix(H, encoder_out)\n",
    "        return F.softmax(e_matrix, dim=1).unsqueeze(1)\n",
    "        \n",
    "    def get_alpha_matrix(self, hidden, encoder_out):\n",
    "        \n",
    "        # tanh non-linearity after concatenating encoder outputs and hidden state\n",
    "        e_align = F.tanh(self.attn(torch.cat([encoder_out, hidden], 2)))\n",
    "        \n",
    "        e_align = e_align.transpose(2, 1)\n",
    "        v = self.v.repeat(encoder_out.size(0), 1).unsqueeze(1)\n",
    "        # batch matrix multiply v and alignment scores\n",
    "        e_align = torch.bmm(v, e_align)\n",
    "        \n",
    "        return e_align.squeeze(1)"
   ]
  },
  {
   "cell_type": "code",
   "execution_count": 18,
   "metadata": {},
   "outputs": [],
   "source": [
    "class AttentionDecoder(nn.Module):\n",
    "    def __init__(self, num_layers=2, inputs_size=15, hidden_size=20):\n",
    "        super(AttentionDecoder, self).__init__()\n",
    "        \n",
    "        self.num_layers = num_layers\n",
    "        self.hidden_size = hidden_size\n",
    "        self.context_size = hidden_size\n",
    "        self.inputs_size = inputs_size\n",
    "        \n",
    "        # embedding_layer\n",
    "        self.embed = nn.Embedding(num_embeddings=VOCAB_SIZE, \n",
    "                                  embedding_dim=inputs_size)\n",
    "        \n",
    "        # lstm_layer\n",
    "        self.rnn = nn.LSTM(input_size=self.context_size, # Add self.input_size for adding input embeddings \n",
    "                           hidden_size=hidden_size,\n",
    "                           num_layers=num_layers,\n",
    "                           batch_first=False,\n",
    "                           bidirectional=False)\n",
    "        # alignment_layer\n",
    "        self.align = Align(hidden_size = self.hidden_size)\n",
    "        # linear_layer\n",
    "        self.linear = nn.Linear(in_features=hidden_size,\n",
    "                                out_features=VOCAB_SIZE)\n",
    "    \n",
    "    # initialize only the context values of the lstm\n",
    "    def _init_context_lstm(self):\n",
    "        return torch.randn(self.num_layers, 1, self.hidden_size)\n",
    "        \n",
    "    def forward(self, inputs, prev_hidden, encoder_out, context_lstm):\n",
    "        \n",
    "        in_embed = self.embed(inputs)\n",
    "        in_embed = in_embed.unsqueeze(1)\n",
    "        \n",
    "        attn_w = self.align(prev_hidden, encoder_out)\n",
    "        context = attn_w.bmm(encoder_out.transpose(0, 1))\n",
    "        context = context.transpose(0, 1)\n",
    "        \n",
    "        #context_lstm = self._init_context_lstm()\n",
    "        #rnn_in = torch.cat([in_embed, context], 2)\n",
    "        \n",
    "        rnn_in = context\n",
    "        # pass the previous hidden layer to the lstm\n",
    "        rnn_out, (current_hidden, curr_context) = self.rnn(rnn_in, (prev_hidden, context_lstm))\n",
    "        \n",
    "        return self.linear(rnn_out.squeeze(1)), attn_w, rnn_out, (current_hidden, curr_context)"
   ]
  },
  {
   "cell_type": "code",
   "execution_count": 19,
   "metadata": {},
   "outputs": [],
   "source": [
    "class AttnNetwork(nn.Module):\n",
    "    def __init__(self, en_layers=2, de_layers=2, inputs_size=15, hidden_size=20):\n",
    "        super(AttnNetwork, self).__init__()\n",
    "        \n",
    "        self.inputs_size = inputs_size\n",
    "        self.hidden_size = hidden_size\n",
    "        self.de_layers = de_layers\n",
    "        \n",
    "        self.encoder = EncoderRNN(num_layers=en_layers,\n",
    "                                  inputs_size=self.inputs_size,\n",
    "                                  hidden_size=self.hidden_size)\n",
    "        self.decoder = AttentionDecoder(num_layers=de_layers,\n",
    "                                        inputs_size=self.inputs_size,\n",
    "                                        hidden_size=self.hidden_size)\n",
    "        \n",
    "    def forward(self, inputs):\n",
    "        \n",
    "        encoder_out = self.encoder(inputs)\n",
    "        max_len = encoder_out.size(0)\n",
    "        \n",
    "        out = torch.zeros([max_len, VOCAB_SIZE])\n",
    "        hidden = torch.rand([self.de_layers, 1, self.hidden_size])\n",
    "        in_ = torch.LongTensor([5])\n",
    "        \n",
    "        # iterate through the input sequence length\n",
    "        lstm_context = self.decoder._init_context_lstm()\n",
    "        for i in range(max_len):\n",
    "            \n",
    "            out_, attn_w, rnn_out, (hidden, lstm_context) = self.decoder(in_, hidden, encoder_out, lstm_context)\n",
    "            out[i] = out_\n",
    "            in_ = torch.argmax(out_, 1)\n",
    "        \n",
    "        return out"
   ]
  },
  {
   "cell_type": "markdown",
   "metadata": {},
   "source": [
    "#### Train the model"
   ]
  },
  {
   "cell_type": "code",
   "execution_count": null,
   "metadata": {
    "scrolled": true
   },
   "outputs": [
    {
     "data": {
      "image/png": "[encoded data removed]",
      "text/plain": [
       "<Figure size 432x288 with 1 Axes>"
      ]
     },
     "metadata": {},
     "output_type": "display_data"
    },
    {
     "name": "stdout",
     "output_type": "stream",
     "text": [
      "Loss on validation dataset: 1.8603354692459106\n"
     ]
    }
   ],
   "source": [
    "attn_model = AttnNetwork(en_layers=1, de_layers=1, inputs_size=4, hidden_size=32)\n",
    "train(attn_model, train_data=train_data, valid_data=valid_data, n_epochs=30)"
   ]
  },
  {
   "cell_type": "markdown",
   "metadata": {},
   "source": [
    "#### Load a saved model"
   ]
  },
  {
   "cell_type": "code",
   "execution_count": 21,
   "metadata": {},
   "outputs": [],
   "source": [
    "# Uncomment these lines to load a saved model \n",
    "\n",
    "attn_model = AttnNetwork(en_layers=1, de_layers=1, inputs_size=4, hidden_size=32)\n",
    "attn_model.load_state_dict(torch.load('./string_reversal_attn'))"
   ]
  },
  {
   "cell_type": "markdown",
   "metadata": {},
   "source": [
    "### Evaluate the model"
   ]
  },
  {
   "cell_type": "code",
   "execution_count": 22,
   "metadata": {},
   "outputs": [
    {
     "name": "stdout",
     "output_type": "stream",
     "text": [
      "Matches for short strings 99\n",
      "Matches for medium strings 100\n",
      "Matches for long strings 100\n"
     ]
    }
   ],
   "source": [
    "short_strings = [sample_model(1, 5) for _ in range(100)]\n",
    "medium_strings = [sample_model(5, 10) for _ in range(100)]\n",
    "long_strings = [sample_model(10, 15) for _ in range(100)]\n",
    "\n",
    "print('Matches for short strings', count_matches(attn_model, short_strings))\n",
    "print('Matches for medium strings', count_matches(attn_model, medium_strings))\n",
    "print('Matches for long strings', count_matches(attn_model, long_strings))"
   ]
  }
 ],
 "metadata": {
  "kernelspec": {
   "display_name": "Python 3",
   "language": "python",
   "name": "python3"
  },
  "language_info": {
   "codemirror_mode": {
    "name": "ipython",
    "version": 3
   },
   "file_extension": ".py",
   "mimetype": "text/x-python",
   "name": "python",
   "nbconvert_exporter": "python",
   "pygments_lexer": "ipython3",
   "version": "3.6.6"
  }
 },
 "nbformat": 4,
 "nbformat_minor": 2
}
